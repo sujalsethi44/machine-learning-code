{
 "cells": [
  {
   "cell_type": "code",
   "execution_count": 1,
   "metadata": {},
   "outputs": [],
   "source": [
    "from keras.models import Sequential\n",
    "from keras.layers import Dense"
   ]
  },
  {
   "cell_type": "code",
   "execution_count": 2,
   "metadata": {},
   "outputs": [],
   "source": [
    "# Creating a Model\n",
    "model = Sequential()"
   ]
  },
  {
   "cell_type": "code",
   "execution_count": 4,
   "metadata": {},
   "outputs": [],
   "source": [
    "layer1 = Dense(units=32, activation = 'relu', input_dim = 30)\n",
    "model.add(layer1)\n",
    "model.add(Dense(units=16, activation = 'relu'))\n",
    "model.add(Dense(units=1, activation = 'sigmoid')) #output layer"
   ]
  },
  {
   "cell_type": "code",
   "execution_count": 5,
   "metadata": {},
   "outputs": [],
   "source": [
    "model.compile(optimizer='adam', loss='binary_crossentropy', metrics=['accuracy'])"
   ]
  },
  {
   "cell_type": "code",
   "execution_count": 6,
   "metadata": {},
   "outputs": [],
   "source": [
    "from sklearn import datasets\n",
    "cancer = datasets.load_breast_cancer()\n",
    "from sklearn.model_selection import train_test_split\n",
    "\n",
    "x_train, x_test, y_train, y_test = train_test_split(cancer.data, cancer.target, test_size = 0.2, random_state = 0)\n",
    "\n",
    "from sklearn.preprocessing import StandardScaler\n",
    "\n",
    "sc = StandardScaler()\n",
    "x_train = sc.fit_transform(x_train)\n",
    "x_test = sc.transform(x_test)"
   ]
  },
  {
   "cell_type": "code",
   "execution_count": 7,
   "metadata": {},
   "outputs": [
    {
     "name": "stdout",
     "output_type": "stream",
     "text": [
      "Epoch 1/20\n",
      "10/10 [==============================] - 6s 40ms/step - loss: 0.6894 - accuracy: 0.5626 - val_loss: 0.6872 - val_accuracy: 0.5877\n",
      "Epoch 2/20\n",
      "10/10 [==============================] - 0s 6ms/step - loss: 0.6768 - accuracy: 0.6374 - val_loss: 0.6760 - val_accuracy: 0.5877\n",
      "Epoch 3/20\n",
      "10/10 [==============================] - 0s 6ms/step - loss: 0.6574 - accuracy: 0.6374 - val_loss: 0.6548 - val_accuracy: 0.5877\n",
      "Epoch 4/20\n",
      "10/10 [==============================] - 0s 6ms/step - loss: 0.6272 - accuracy: 0.6374 - val_loss: 0.6218 - val_accuracy: 0.5877\n",
      "Epoch 5/20\n",
      "10/10 [==============================] - 0s 6ms/step - loss: 0.5899 - accuracy: 0.6374 - val_loss: 0.5855 - val_accuracy: 0.5877\n",
      "Epoch 6/20\n",
      "10/10 [==============================] - 0s 7ms/step - loss: 0.5503 - accuracy: 0.6374 - val_loss: 0.5517 - val_accuracy: 0.5877\n",
      "Epoch 7/20\n",
      "10/10 [==============================] - 0s 6ms/step - loss: 0.5163 - accuracy: 0.6374 - val_loss: 0.5251 - val_accuracy: 0.5877\n",
      "Epoch 8/20\n",
      "10/10 [==============================] - 0s 6ms/step - loss: 0.4869 - accuracy: 0.6374 - val_loss: 0.4993 - val_accuracy: 0.5877\n",
      "Epoch 9/20\n",
      "10/10 [==============================] - 0s 6ms/step - loss: 0.4590 - accuracy: 0.6374 - val_loss: 0.4737 - val_accuracy: 0.5877\n",
      "Epoch 10/20\n",
      "10/10 [==============================] - 0s 6ms/step - loss: 0.4324 - accuracy: 0.6374 - val_loss: 0.4473 - val_accuracy: 0.5877\n",
      "Epoch 11/20\n",
      "10/10 [==============================] - 0s 6ms/step - loss: 0.4059 - accuracy: 0.6374 - val_loss: 0.4194 - val_accuracy: 0.5877\n",
      "Epoch 12/20\n",
      "10/10 [==============================] - 0s 6ms/step - loss: 0.3796 - accuracy: 0.6725 - val_loss: 0.3928 - val_accuracy: 0.8684\n",
      "Epoch 13/20\n",
      "10/10 [==============================] - 0s 6ms/step - loss: 0.3545 - accuracy: 0.9033 - val_loss: 0.3683 - val_accuracy: 0.9474\n",
      "Epoch 14/20\n",
      "10/10 [==============================] - 0s 8ms/step - loss: 0.3331 - accuracy: 0.9451 - val_loss: 0.3490 - val_accuracy: 0.9474\n",
      "Epoch 15/20\n",
      "10/10 [==============================] - 0s 9ms/step - loss: 0.3150 - accuracy: 0.9560 - val_loss: 0.3331 - val_accuracy: 0.9474\n",
      "Epoch 16/20\n",
      "10/10 [==============================] - 0s 10ms/step - loss: 0.2996 - accuracy: 0.9626 - val_loss: 0.3200 - val_accuracy: 0.9561\n",
      "Epoch 17/20\n",
      "10/10 [==============================] - 0s 9ms/step - loss: 0.2863 - accuracy: 0.9692 - val_loss: 0.3092 - val_accuracy: 0.9561\n",
      "Epoch 18/20\n",
      "10/10 [==============================] - 0s 8ms/step - loss: 0.2748 - accuracy: 0.9714 - val_loss: 0.2998 - val_accuracy: 0.9649\n",
      "Epoch 19/20\n",
      "10/10 [==============================] - 0s 6ms/step - loss: 0.2645 - accuracy: 0.9758 - val_loss: 0.2919 - val_accuracy: 0.9649\n",
      "Epoch 20/20\n",
      "10/10 [==============================] - 0s 6ms/step - loss: 0.2549 - accuracy: 0.9824 - val_loss: 0.2840 - val_accuracy: 0.9737\n"
     ]
    },
    {
     "data": {
      "text/plain": [
       "<keras.callbacks.History at 0x1f5edca4c40>"
      ]
     },
     "execution_count": 7,
     "metadata": {},
     "output_type": "execute_result"
    }
   ],
   "source": [
    "model.fit(x_train, y_train, epochs=20, batch_size = 50, validation_data=(x_test, y_test))"
   ]
  },
  {
   "cell_type": "code",
   "execution_count": 8,
   "metadata": {},
   "outputs": [
    {
     "name": "stdout",
     "output_type": "stream",
     "text": [
      "4/4 [==============================] - 0s 3ms/step\n",
      "4/4 [==============================] - 0s 3ms/step - loss: 0.2840 - accuracy: 0.9737\n"
     ]
    },
    {
     "data": {
      "text/plain": [
       "[0.2840326428413391, 0.9736841917037964]"
      ]
     },
     "execution_count": 8,
     "metadata": {},
     "output_type": "execute_result"
    }
   ],
   "source": [
    "predictions = model.predict(x_test)\n",
    "score = model.evaluate(x_test, y_test) #give loss finction and score accuracry\n",
    "score"
   ]
  },
  {
   "cell_type": "code",
   "execution_count": null,
   "metadata": {},
   "outputs": [],
   "source": []
  }
 ],
 "metadata": {
  "kernelspec": {
   "display_name": "Python 3 (ipykernel)",
   "language": "python",
   "name": "python3"
  },
  "language_info": {
   "codemirror_mode": {
    "name": "ipython",
    "version": 3
   },
   "file_extension": ".py",
   "mimetype": "text/x-python",
   "name": "python",
   "nbconvert_exporter": "python",
   "pygments_lexer": "ipython3",
   "version": "3.9.7"
  }
 },
 "nbformat": 4,
 "nbformat_minor": 2
}
